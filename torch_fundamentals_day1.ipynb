{
  "cells": [
    {
      "cell_type": "markdown",
      "metadata": {
        "id": "C0vTZguua1mv"
      },
      "source": [
        "# Deep Learning\n",
        "\n",
        "Deep Learning is a subfield of Machine Learning that uses ***neural_networks***. Neural networks were inspired by the human brain, with many layers of interconnected \"neurons\" that process information.\n",
        "\n",
        "\n",
        " # Neural Networks\n",
        "\n",
        " <img src='https://miro.medium.com/v2/resize:fit:800/1*wDptpMvzYcmV62esTVZ_Bw.png' height=300 width=400>\n",
        "\n",
        "\n",
        "A **neural network** is a computational model that approximates functions. It maps input data (features) to an output (predictions) by passing it through a network of layers.\n",
        "\n",
        "It consists of:\n",
        "- **Input Layer**: Takes in raw data (e.g., pixel values, text embeddings)\n",
        "- **Hidden Layers**: Perform computations via weighted sums and activation functions\n",
        "- **Output Layer**: Produces final predictions (e.g., class scores or regression values)\n",
        "\n",
        "---\n"
      ]
    },
    {
      "cell_type": "markdown",
      "metadata": {
        "id": "tp4NM7pnlhKK"
      },
      "source": [
        "#PyTorch Fundamentals\n",
        "\n",
        "Installation\n",
        "pip\n",
        "```\n",
        "pip install torch\n",
        "```\n",
        "\n",
        "Installation uv\n",
        "\n",
        "\n",
        "\n",
        "```\n",
        "uv init\n",
        "uv venv\n",
        "\n",
        "source .venv/bin/activate  # On Linux/macOS\n",
        ".venv\\Scripts\\activate     # On Windows\n",
        "\n",
        "uv add torch\n",
        "```\n"
      ]
    },
    {
      "cell_type": "markdown",
      "metadata": {
        "id": "qPWKgzPYmYXe"
      },
      "source": [
        "# Pytorch Introduction\n",
        "\n",
        "PyTorch is a fully featured framework for building deep learning models.\n",
        "\n",
        "## Tensors\n",
        "Tensors are a core PyTorch data type, similar to a multidimensional array, used to store and manipulate the inputs and outputs of a model, as well as the model’s parameters. Tensors are similar to NumPy’s ndarrays, except that tensors can run on GPUs to accelerate computing.\n",
        "\n",
        "## Graphs\n",
        "Graphs are data structures consisting of connected nodes (called vertices) and edges. Every modern framework for deep learning is based on the concept of graphs, where Neural Networks are represented as a graph structure of computations. PyTorch keeps a record of tensors and executed operations in a directed acyclic graph (DAG) consisting of Function objects. In this DAG, leaves are the input tensors, roots are the output tensors.\n",
        "\n",
        "Example\n",
        "\n",
        "$\n",
        "\\mathbf{h}_t = \\tanh(\\mathbf{W}_h \\mathbf{h}_{t-1}^\\top + \\mathbf{W}_x \\mathbf{x}^\\top)\n",
        "$\n",
        "\n",
        "\n",
        "           Wh    h_{t-1}     Wx    x(input at t)\n",
        "            │       │         │       │\n",
        "            └──┬────┘         └──┬────┘\n",
        "               ▼                 ▼\n",
        "              ┌─────────┐   ┌─────────┐\n",
        "              │ Matrix  │   │ Matrix  │\n",
        "              │Multiply │   │Multiply │\n",
        "              └─────────┘   └─────────┘\n",
        "                    │         │\n",
        "                    └────┬────┘\n",
        "                         ▼\n",
        "                       ┌───┐\n",
        "                       │ + │\n",
        "                       └───┘\n",
        "                         │\n",
        "                         ▼\n",
        "                      ┌─────┐\n",
        "                      │tanh │\n",
        "                      └─────┘\n",
        "                         │\n",
        "                         ▼\n",
        "                        h_t\n",
        "\n",
        "Nodes represent:\n",
        "- Operations (like matmul, add, tanh, etc.)\n",
        "\n",
        "- Tensors (especially leaf tensors like inputs and parameters that require gradients)\n",
        "\n",
        "Edges represent:\n",
        "The data dependencies between operations.\n",
        "\n",
        "- They show how the output of one operation (node) is used as the input to another.\n",
        "\n",
        "- During backpropagation, gradients flow along these edges in r"
      ]
    },
    {
      "cell_type": "markdown",
      "metadata": {
        "id": "-pPJLq3Gm3oG"
      },
      "source": [
        "----\n",
        "####**Module 1: The Core - Tensors**"
      ]
    },
    {
      "cell_type": "code",
      "execution_count": null,
      "metadata": {
        "colab": {
          "base_uri": "https://localhost:8080/",
          "height": 35
        },
        "id": "JyHGdQeVlUsr",
        "outputId": "0baac8a1-69e4-48b8-9a54-dcbbe0b8eb9c"
      },
      "outputs": [
        {
          "data": {
            "application/vnd.google.colaboratory.intrinsic+json": {
              "type": "string"
            },
            "text/plain": [
              "'2.6.0+cu124'"
            ]
          },
          "execution_count": 39,
          "metadata": {},
          "output_type": "execute_result"
        }
      ],
      "source": [
        "import torch\n",
        "torch.__version__"
      ]
    },
    {
      "cell_type": "markdown",
      "metadata": {
        "id": "bBXkSntzwkUy"
      },
      "source": [
        "##### Creating Tensor"
      ]
    },
    {
      "cell_type": "code",
      "execution_count": null,
      "metadata": {
        "colab": {
          "base_uri": "https://localhost:8080/"
        },
        "id": "m0C2LAhRlWGD",
        "outputId": "2ffb4124-061e-4368-e716-f934f09e2126"
      },
      "outputs": [
        {
          "name": "stdout",
          "output_type": "stream",
          "text": [
            "Tensor from list:\n",
            " tensor([[1, 2],\n",
            "        [3, 4]])\n"
          ]
        }
      ],
      "source": [
        "\n",
        "\n",
        "# from list\n",
        "a = [1,2]\n",
        "b = [3,4]\n",
        "x_data = torch.tensor([a, b])\n",
        "print(\"Tensor from list:\\n\", x_data)"
      ]
    },
    {
      "cell_type": "code",
      "execution_count": null,
      "metadata": {
        "colab": {
          "base_uri": "https://localhost:8080/"
        },
        "id": "Hp6zwZO6lc5h",
        "outputId": "6d195a32-02ae-426a-f747-f83c10bf612f"
      },
      "outputs": [
        {
          "name": "stdout",
          "output_type": "stream",
          "text": [
            "Numpy Array: \n",
            " [[1 2]\n",
            " [3 4]]\n",
            "Tensor from NumPy array:\n",
            " tensor([[1, 2],\n",
            "        [3, 4]])\n"
          ]
        }
      ],
      "source": [
        "# from numpy\n",
        "\n",
        "import numpy as np\n",
        "np_array = np.array([[1, 2], [3, 4]])\n",
        "print(\"Numpy Array: \\n\", np_array)\n",
        "x_np = torch.from_numpy(np_array)\n",
        "print(\"Tensor from NumPy array:\\n\", x_np)"
      ]
    },
    {
      "cell_type": "code",
      "execution_count": null,
      "metadata": {
        "colab": {
          "base_uri": "https://localhost:8080/"
        },
        "id": "rQBP0DkavSil",
        "outputId": "e6af3fe7-7535-4d3d-c520-061861af9a47"
      },
      "outputs": [
        {
          "name": "stdout",
          "output_type": "stream",
          "text": [
            "Random Tensor:\n",
            " tensor([[0.6440, 0.7300, 0.4562],\n",
            "        [0.0547, 0.3996, 0.9277]])\n",
            "----------------------------\n",
            "Random Tensor:\n",
            " tensor([[ 1,  2, 47],\n",
            "        [14,  4,  3]])\n",
            "----------------------------\n",
            "Ones Tensor:\n",
            " tensor([[1., 1., 1.],\n",
            "        [1., 1., 1.]])\n",
            "----------------------------\n",
            "Zeros Tensor:\n",
            " tensor([[0., 0., 0.],\n",
            "        [0., 0., 0.]])\n"
          ]
        }
      ],
      "source": [
        "\n",
        "shape = (2, 3) # (rows, columns)\n",
        "\n",
        "rand_tensor = torch.rand(shape) # values between 0 and 1\n",
        "print(\"Random Tensor:\\n\", rand_tensor)\n",
        "print(\"----------------------------\")\n",
        "\n",
        "rand_tensor = torch.randint(0, 50, shape) # values between low=0 and high=50\n",
        "print(\"Random Tensor:\\n\", rand_tensor)\n",
        "print(\"----------------------------\")\n",
        "\n",
        "ones_tensor = torch.ones(shape)\n",
        "print(\"Ones Tensor:\\n\", ones_tensor)\n",
        "print(\"----------------------------\")\n",
        "\n",
        "\n",
        "zeros_tensor = torch.zeros(shape)\n",
        "print(\"Zeros Tensor:\\n\", zeros_tensor)"
      ]
    },
    {
      "cell_type": "code",
      "execution_count": null,
      "metadata": {
        "colab": {
          "base_uri": "https://localhost:8080/"
        },
        "id": "sHsBVrUiu19H",
        "outputId": "eded8f73-c46c-4b55-a294-41403ac24070"
      },
      "outputs": [
        {
          "name": "stdout",
          "output_type": "stream",
          "text": [
            "Ones Tensor:\n",
            " tensor([[1, 1, 1],\n",
            "        [1, 1, 1]], dtype=torch.int32)\n",
            "----------------------------\n",
            "Random Tensor:\n",
            " tensor([[0.0469, 0.0298, 0.7687],\n",
            "        [0.7031, 0.2311, 0.3464]])\n"
          ]
        }
      ],
      "source": [
        "# Creating tensors with specific properties\n",
        "\n",
        "x_ones = torch.ones_like(zeros_tensor, dtype=torch.int)\n",
        "print(\"Ones Tensor:\\n\", x_ones)\n",
        "print(\"----------------------------\")\n",
        "\n",
        "x_rand = torch.rand_like(ones_tensor, dtype=torch.float)\n",
        "print(\"Random Tensor:\\n\", x_rand)"
      ]
    },
    {
      "cell_type": "markdown",
      "metadata": {
        "id": "kpQHTgDJwrrs"
      },
      "source": [
        "##### Tensor Attributes and Operations"
      ]
    },
    {
      "cell_type": "code",
      "execution_count": null,
      "metadata": {
        "colab": {
          "base_uri": "https://localhost:8080/"
        },
        "id": "CRilN855xGXF",
        "outputId": "8e48fa37-7f87-4e72-f716-9583932633a7"
      },
      "outputs": [
        {
          "name": "stdout",
          "output_type": "stream",
          "text": [
            "tensor([[5, 3, 6, 6],\n",
            "        [6, 6, 8, 8],\n",
            "        [3, 5, 4, 3],\n",
            "        [2, 3, 2, 4]])\n"
          ]
        }
      ],
      "source": [
        "my_tensor = torch.randint(0, 9, (4, 4))\n",
        "print(my_tensor)"
      ]
    },
    {
      "cell_type": "code",
      "execution_count": null,
      "metadata": {
        "colab": {
          "base_uri": "https://localhost:8080/"
        },
        "id": "yFHUOYkmwxXi",
        "outputId": "76705400-863a-42f8-e4d4-52392d065bd4"
      },
      "outputs": [
        {
          "name": "stdout",
          "output_type": "stream",
          "text": [
            "Shape: torch.Size([4, 4])\n",
            "Datatype: torch.int64\n",
            "Device: cpu\n"
          ]
        }
      ],
      "source": [
        "# Demonstrate shape, dtype, device, reshaping, and operations\n",
        "\n",
        "print(\"Shape:\", my_tensor.shape)\n",
        "print(\"Datatype:\", my_tensor.dtype)\n",
        "print(\"Device:\", my_tensor.device) # default device CPU"
      ]
    },
    {
      "cell_type": "code",
      "execution_count": null,
      "metadata": {
        "colab": {
          "base_uri": "https://localhost:8080/"
        },
        "id": "lW5xcCidw5qi",
        "outputId": "1f370584-ac83-4061-9dc7-4cf67237a7ef"
      },
      "outputs": [
        {
          "name": "stdout",
          "output_type": "stream",
          "text": [
            "Reshaped tensor: tensor([[5, 3, 6, 6, 6, 6, 8, 8],\n",
            "        [3, 5, 4, 3, 2, 3, 2, 4]])\n",
            "-------------------------------------------------- \n",
            "\n",
            "Reshaped tensor with unknown dimension: tensor([5, 3, 6, 6, 6, 6, 8, 8, 3, 5, 4, 3, 2, 3, 2, 4])\n",
            "-------------------------------------------------- \n",
            "\n",
            "Flat tensor: tensor([5, 3, 6, 6, 6, 6, 8, 8, 3, 5, 4, 3, 2, 3, 2, 4])\n",
            "-------------------------------------------------- \n",
            "\n",
            "Reshaped tensor using view: tensor([[5, 3],\n",
            "        [6, 6],\n",
            "        [6, 6],\n",
            "        [8, 8],\n",
            "        [3, 5],\n",
            "        [4, 3],\n",
            "        [2, 3],\n",
            "        [2, 4]])\n",
            "-------------------------------------------------- \n",
            "\n",
            "Reshaped tensor with flatten: tensor([5, 3, 6, 6, 6, 6, 8, 8, 3, 5, 4, 3, 2, 3, 2, 4])\n"
          ]
        }
      ],
      "source": [
        "# Reshaping\n",
        "\n",
        "reshaped_tensor = my_tensor.reshape(2, 8)\n",
        "print(\"Reshaped tensor:\", reshaped_tensor)\n",
        "print('-'*50,'\\n')\n",
        "\n",
        "\n",
        "reshaped_tensor = my_tensor.reshape(-1)\n",
        "print(\"Reshaped tensor with unknown dimension:\", reshaped_tensor)\n",
        "print('-'*50,'\\n')\n",
        "\n",
        "\n",
        "\n",
        "flat_tensor = my_tensor.view(16)\n",
        "print(\"Flat tensor:\", flat_tensor)\n",
        "print('-'*50,'\\n')\n",
        "\n",
        "\n",
        "reshaped_tensor = my_tensor.view(8,2)\n",
        "print(\"Reshaped tensor using view:\", reshaped_tensor)\n",
        "print('-'*50,'\\n')\n",
        "\n",
        "reshaped_tensor = my_tensor.flatten()\n",
        "print(\"Reshaped tensor with flatten:\", reshaped_tensor)"
      ]
    },
    {
      "cell_type": "code",
      "execution_count": null,
      "metadata": {
        "colab": {
          "base_uri": "https://localhost:8080/"
        },
        "id": "ysqOrgVpxA4q",
        "outputId": "a8c4aac2-f101-4a0c-919d-583a56c81ec9"
      },
      "outputs": [
        {
          "name": "stdout",
          "output_type": "stream",
          "text": [
            "add = tensor([5., 7., 9.])\n",
            "sub = tensor([-3., -3., -3.])\n",
            "mul = tensor([ 4., 10., 18.])\n",
            "div = tensor([0.2500, 0.4000, 0.5000])\n",
            "pow = tensor([1., 4., 9.])\n",
            "-------------------------------------------------- \n",
            "\n",
            "mean_all = tensor(3.5000)\n",
            "mean_dim0 = tensor([1.5000, 4.5000, 4.5000])\n",
            "sum_all = tensor(21.)\n",
            "max_val, max_idx = torch.return_types.max(\n",
            "values=tensor([2., 5., 6.]),\n",
            "indices=tensor([0, 1, 0]))\n",
            "min_val, min_idx = torch.return_types.min(\n",
            "values=tensor([2., 1.]),\n",
            "indices=tensor([0, 0]))\n",
            "std =  tensor(1.8708)\n"
          ]
        }
      ],
      "source": [
        "# Mathematical Operation\n",
        "\n",
        "a = torch.tensor([1.0, 2.0, 3.0],)\n",
        "b = torch.tensor([4.0, 5.0, 6.0])\n",
        "\n",
        "# Element-wise operations\n",
        "print(f\"add =\", a + b)\n",
        "print(f\"sub =\", a - b)\n",
        "print(f\"mul =\", a * b)\n",
        "print(f\"div =\", a / b)\n",
        "print(f\"pow =\", a ** 2)\n",
        "\n",
        "print('-'*50,'\\n')\n",
        "# Element-wise functions\n",
        "x = torch.tensor([\n",
        "    [2., 4., 6.],\n",
        "     [1., 5., 3.]])\n",
        "\n",
        "print(\"mean_all =\", torch.mean(x))          # Overall mean\n",
        "print(\"mean_dim0 =\", torch.mean(x, dim=0))\n",
        "print(\"sum_all =\", torch.sum(x))\n",
        "print(\"max_val, max_idx =\", torch.max(x, dim=0))\n",
        "print(\"min_val, min_idx =\", torch.min(x, dim=1))\n",
        "print(\"std = \", torch.std(x))"
      ]
    },
    {
      "cell_type": "code",
      "execution_count": null,
      "metadata": {
        "colab": {
          "base_uri": "https://localhost:8080/"
        },
        "id": "l0FSSnyzxetZ",
        "outputId": "d3a36b3b-6777-4a2c-fa68-457f55009491"
      },
      "outputs": [
        {
          "name": "stdout",
          "output_type": "stream",
          "text": [
            "matmul = \n",
            " tensor([[19., 22.],\n",
            "        [43., 50.]])\n",
            "tensor([[19., 22.],\n",
            "        [43., 50.]])\n",
            "transpose =\n",
            " tensor([[1., 3.],\n",
            "        [2., 4.]])\n",
            "det =\n",
            " tensor(-2.)\n",
            "inv =\n",
            " tensor([[-2.0000,  1.0000],\n",
            "        [ 1.5000, -0.5000]])\n"
          ]
        }
      ],
      "source": [
        "# matrix operation\n",
        "\n",
        "A = torch.tensor([[1., 2.], [3., 4.]])\n",
        "B = torch.tensor([[5., 6.], [7., 8.]])\n",
        "\n",
        "# Matrix multiplication\n",
        "print(\"matmul = \\n\",torch.matmul(A, B))  # or A @ B\n",
        "print(A@B)\n",
        "\n",
        "# Transpose\n",
        "print(\"transpose =\\n\", A.T)  # or A.transpose(0, 1)\n",
        "\n",
        "# Determinant\n",
        "print(\"det =\\n\", torch.linalg.det(A))\n",
        "\n",
        "# Inverse\n",
        "print(\"inv =\\n\", torch.linalg.inv(A))\n"
      ]
    },
    {
      "cell_type": "markdown",
      "metadata": {
        "id": "_sEEIXjLKQ-4"
      },
      "source": [
        "##### GPU Acceleration"
      ]
    },
    {
      "cell_type": "code",
      "execution_count": null,
      "metadata": {
        "id": "68wDbAA5M4lU"
      },
      "outputs": [],
      "source": [
        "my_tensor = torch.randn(8000,8000, dtype=torch.float32)"
      ]
    },
    {
      "cell_type": "code",
      "execution_count": null,
      "metadata": {
        "colab": {
          "base_uri": "https://localhost:8080/"
        },
        "id": "26VayHmaKUXs",
        "outputId": "8e080274-04f9-4614-d12d-e34b65380ecd"
      },
      "outputs": [
        {
          "name": "stdout",
          "output_type": "stream",
          "text": [
            "Using device: cuda\n"
          ]
        }
      ],
      "source": [
        "device = \"cuda\" if torch.cuda.is_available() else \"cpu\"\n",
        "print(\"Using device:\", device)"
      ]
    },
    {
      "cell_type": "code",
      "execution_count": null,
      "metadata": {
        "colab": {
          "base_uri": "https://localhost:8080/"
        },
        "id": "Ai-k2OddK2nG",
        "outputId": "fed2dd74-6d04-457a-d097-1aa41568f6c4"
      },
      "outputs": [
        {
          "data": {
            "text/plain": [
              "tensor([[-0.0843, -1.1978,  0.9261,  ..., -0.1400,  0.5865,  0.1649],\n",
              "        [-0.1110, -0.2898, -1.5152,  ...,  1.1018,  0.0280,  0.2350],\n",
              "        [-2.0120, -1.0060,  1.5909,  ...,  0.2863,  0.7272,  0.5691],\n",
              "        ...,\n",
              "        [ 0.4817, -0.4049,  0.8068,  ..., -1.4496, -2.1939,  1.0204],\n",
              "        [-0.9117,  0.5796,  0.8540,  ...,  0.1452,  1.1311,  0.2764],\n",
              "        [-0.5662, -0.5067, -1.4553,  ...,  0.9152,  1.9835, -0.7238]],\n",
              "       device='cuda:0')"
            ]
          },
          "execution_count": 51,
          "metadata": {},
          "output_type": "execute_result"
        }
      ],
      "source": [
        "gpu_tensor = my_tensor.to(device)\n",
        "gpu_tensor"
      ]
    },
    {
      "cell_type": "code",
      "execution_count": null,
      "metadata": {
        "id": "YSJRwepXLHnL"
      },
      "outputs": [],
      "source": [
        "# my_tensor + gpu_tensor"
      ]
    },
    {
      "cell_type": "code",
      "execution_count": null,
      "metadata": {
        "colab": {
          "base_uri": "https://localhost:8080/"
        },
        "id": "UrCySzdbLc-d",
        "outputId": "194f457f-b677-4d49-d0ec-c9acf29629dc"
      },
      "outputs": [
        {
          "name": "stdout",
          "output_type": "stream",
          "text": [
            "tensor([[  42.1795, -144.4513,  184.9128,  ..., -244.2494,  -61.0312,\n",
            "          104.1585],\n",
            "        [  31.9048,   68.0681,    8.1253,  ...,  -41.3922,    4.2698,\n",
            "          104.0785],\n",
            "        [-150.6989,  -65.7963,  -53.2894,  ...,   13.7322,  -24.9052,\n",
            "           55.5764],\n",
            "        ...,\n",
            "        [  24.4931,  -41.3000,  131.7645,  ...,  -87.0403,  -50.6616,\n",
            "         -102.7693],\n",
            "        [ -35.7732,  -18.8666,  147.9960,  ...,   35.6521,   -7.1886,\n",
            "          -66.7831],\n",
            "        [ -60.5708,  129.8687,   80.7628,  ...,  -35.2043, -104.5603,\n",
            "          -14.0187]])\n",
            "total time taken:  15.728365421295166\n"
          ]
        }
      ],
      "source": [
        "import time\n",
        "start = time.time()\n",
        "print(my_tensor @ my_tensor)\n",
        "print('total time taken: ', time.time()-start)"
      ]
    },
    {
      "cell_type": "code",
      "execution_count": null,
      "metadata": {
        "colab": {
          "base_uri": "https://localhost:8080/"
        },
        "id": "TSskd2lZLy9v",
        "outputId": "f401c90c-1a66-47d4-b381-1a6a7e8b210c"
      },
      "outputs": [
        {
          "name": "stdout",
          "output_type": "stream",
          "text": [
            "tensor([[  42.1796, -144.4515,  184.9129,  ..., -244.2495,  -61.0315,\n",
            "          104.1583],\n",
            "        [  31.9047,   68.0679,    8.1253,  ...,  -41.3921,    4.2699,\n",
            "          104.0784],\n",
            "        [-150.6986,  -65.7963,  -53.2895,  ...,   13.7322,  -24.9054,\n",
            "           55.5765],\n",
            "        ...,\n",
            "        [  24.4931,  -41.3003,  131.7643,  ...,  -87.0402,  -50.6618,\n",
            "         -102.7692],\n",
            "        [ -35.7733,  -18.8667,  147.9961,  ...,   35.6520,   -7.1885,\n",
            "          -66.7833],\n",
            "        [ -60.5708,  129.8686,   80.7626,  ...,  -35.2043, -104.5602,\n",
            "          -14.0189]], device='cuda:0')\n",
            "total time taken:  0.3053436279296875\n"
          ]
        }
      ],
      "source": [
        "import time\n",
        "start = time.time()\n",
        "print(torch.matmul(gpu_tensor, gpu_tensor))\n",
        "print('total time taken: ', time.time()-start)"
      ]
    },
    {
      "cell_type": "code",
      "execution_count": null,
      "metadata": {
        "id": "ASeK85JFMasS"
      },
      "outputs": [],
      "source": []
    },
    {
      "cell_type": "markdown",
      "metadata": {
        "id": "wR5vA-INOmDI"
      },
      "source": [
        "#### Autograd or Automatic Differentiation\n",
        "\n",
        "\n",
        "$p = x \\cdot y + y\n",
        "$\n",
        "\n",
        "Compute the first derivative of \\( p \\) with respect to \\( y \\):\n",
        "\n",
        "$\n",
        "\\frac{dp}{dy} = \\frac{d(xy + y)}{dy} = x + 1\n",
        "$\n",
        "\n",
        "Substitute \\( x = 2 \\):\n",
        "\n",
        "$\n",
        "\\frac{dp}{dy}$ = 2 + 1 = 3\n",
        "\n",
        "----\n",
        "$\n",
        "q = p^2\n",
        "$\n",
        "\n",
        "$\\frac{dq}{dy} = \\frac{dp^2}{dy} $\n",
        "$= \\frac{d(x \\cdot y + y)^2}{dy} $\n",
        "$= \\frac{d(x + 1)^2y^2}{dy} $\n",
        "$= y(x+1)^2$"
      ]
    },
    {
      "cell_type": "code",
      "execution_count": null,
      "metadata": {
        "colab": {
          "base_uri": "https://localhost:8080/"
        },
        "id": "YXHMIXRyOo71",
        "outputId": "b6734b58-dd6c-4b91-c281-f1985efe0886"
      },
      "outputs": [
        {
          "name": "stdout",
          "output_type": "stream",
          "text": [
            "Result of p = x * y + y: tensor(9., grad_fn=<AddBackward0>)\n",
            "Result of q = p ** 2: tensor(81., grad_fn=<PowBackward0>)\n"
          ]
        }
      ],
      "source": [
        "x = torch.tensor(2.0, requires_grad=True)\n",
        "y = torch.tensor(3.0, requires_grad=True)\n",
        "\n",
        "p = x * y + y\n",
        "\n",
        "q = p ** 2\n",
        "\n",
        "print(\"Result of p = x * y + y:\", p)\n",
        "print(\"Result of q = p ** 2:\", q)"
      ]
    },
    {
      "cell_type": "code",
      "execution_count": null,
      "metadata": {
        "colab": {
          "base_uri": "https://localhost:8080/"
        },
        "id": "AoqqpGLKqzdF",
        "outputId": "530421ea-ffb8-4604-dd31-149d92cb9fe4"
      },
      "outputs": [
        {
          "data": {
            "text/plain": [
              "(<PowBackward0 at 0x7da682df6f80>, ((<AddBackward0 at 0x7da682df5cf0>, 0),))"
            ]
          },
          "execution_count": 56,
          "metadata": {},
          "output_type": "execute_result"
        }
      ],
      "source": [
        "q.grad_fn, q.grad_fn.next_functions"
      ]
    },
    {
      "cell_type": "code",
      "execution_count": null,
      "metadata": {
        "colab": {
          "base_uri": "https://localhost:8080/"
        },
        "id": "0YZRStpI1NAl",
        "outputId": "aeaf88bd-4272-4080-b217-90cab523b549"
      },
      "outputs": [
        {
          "data": {
            "text/plain": [
              "(<AddBackward0 at 0x7da682df5cf0>,\n",
              " ((<MulBackward0 at 0x7da682df61a0>, 0),\n",
              "  (<AccumulateGrad at 0x7da682df5c00>, 0)))"
            ]
          },
          "execution_count": 57,
          "metadata": {},
          "output_type": "execute_result"
        }
      ],
      "source": [
        "p.grad_fn, p.grad_fn.next_functions"
      ]
    },
    {
      "cell_type": "code",
      "execution_count": null,
      "metadata": {
        "colab": {
          "base_uri": "https://localhost:8080/"
        },
        "id": "vYx94t6uSdBa",
        "outputId": "d681da2a-ba93-4fc9-80f2-d6546ee6b26f"
      },
      "outputs": [
        {
          "data": {
            "text/plain": [
              "(tensor(3., grad_fn=<AddBackward0>),)"
            ]
          },
          "execution_count": 58,
          "metadata": {},
          "output_type": "execute_result"
        }
      ],
      "source": [
        "dp_dy = torch.autograd.grad(p, y, create_graph=True) #create_graph=True, this new dp_dy is now part of a computation graph and supports further gradients.\n",
        "dp_dy"
      ]
    },
    {
      "cell_type": "code",
      "execution_count": null,
      "metadata": {
        "colab": {
          "base_uri": "https://localhost:8080/"
        },
        "id": "uzJSQDoiqsuM",
        "outputId": "e27abe74-4573-4086-9917-5dd902ca6985"
      },
      "outputs": [
        {
          "data": {
            "text/plain": [
              "(tensor(54., grad_fn=<AddBackward0>),)"
            ]
          },
          "execution_count": 59,
          "metadata": {},
          "output_type": "execute_result"
        }
      ],
      "source": [
        "dq_dy = torch.autograd.grad(q, y, create_graph=True)\n",
        "dq_dy"
      ]
    },
    {
      "cell_type": "code",
      "execution_count": null,
      "metadata": {
        "colab": {
          "base_uri": "https://localhost:8080/"
        },
        "id": "tcsrNUqt7YNS",
        "outputId": "3ce316d3-b336-4ce3-cc22-d1b0afab1c8d"
      },
      "outputs": [
        {
          "data": {
            "text/plain": [
              "(tensor(18., grad_fn=<AddBackward0>),)"
            ]
          },
          "execution_count": 60,
          "metadata": {},
          "output_type": "execute_result"
        }
      ],
      "source": [
        "dq2_dy2 = torch.autograd.grad(dq_dy, y, create_graph=True)\n",
        "dq2_dy2"
      ]
    },
    {
      "cell_type": "code",
      "execution_count": null,
      "metadata": {
        "colab": {
          "base_uri": "https://localhost:8080/"
        },
        "id": "qvIw4VKVSkg7",
        "outputId": "ea684d9d-3e17-4be6-8f38-05a8c69099fe"
      },
      "outputs": [
        {
          "name": "stdout",
          "output_type": "stream",
          "text": [
            "input, x = tensor([[1.],\n",
            "        [2.],\n",
            "        [3.],\n",
            "        [4.]]) \n",
            " target = 5\n",
            "-------------------------------------------------- \n",
            "\n",
            "w =  tensor([[1., 1., 1., 1.],\n",
            "        [1., 1., 1., 1.],\n",
            "        [1., 1., 1., 1.],\n",
            "        [1., 1., 1., 1.]], requires_grad=True)\n",
            "-------------------------------------------------- \n",
            "\n",
            "b = tensor([[-0.4719],\n",
            "        [-0.5372],\n",
            "        [-0.0431],\n",
            "        [-0.0083]], requires_grad=True)\n",
            "-------------------------------------------------- \n",
            "\n",
            "output = w @ x + b \n",
            " tensor([[9.5281],\n",
            "        [9.4628],\n",
            "        [9.9569],\n",
            "        [9.9917]], grad_fn=<AddBackward0>)\n",
            "-------------------------------------------------- \n",
            "\n",
            "Loss:  tensor(33.9395, grad_fn=<SubBackward0>)\n",
            "-------------------------------------------------- \n",
            "\n",
            "Gradient for x:\n",
            " d(loss)/dw = w.grad =  tensor([[1., 2., 3., 4.],\n",
            "        [1., 2., 3., 4.],\n",
            "        [1., 2., 3., 4.],\n",
            "        [1., 2., 3., 4.]])\n",
            "-------------------------------------------------- \n",
            "\n",
            "Gradient for b:\n",
            " d(loss)/db = b.grad =  tensor([[1.],\n",
            "        [1.],\n",
            "        [1.],\n",
            "        [1.]])\n",
            "-------------------------------------------------- \n",
            "\n"
          ]
        }
      ],
      "source": [
        "from os import pread\n",
        "x = torch.tensor([[1.], [2.], [3.], [4.]]) # input\n",
        "y = 5 # target\n",
        "print(f\"input, x = {x} \\n target = {y}\")\n",
        "print(\"-\"*50,\"\\n\")\n",
        "\n",
        "w = torch.ones(4, 4, requires_grad=True)\n",
        "print(\"w = \", w)\n",
        "print(\"-\"*50,\"\\n\")\n",
        "\n",
        "b = torch.randn(4, 1, requires_grad=True)\n",
        "print(\"b =\", b)\n",
        "print(\"-\"*50,\"\\n\")\n",
        "\n",
        "\n",
        "o = w @ x + b\n",
        "print(\"output = w @ x + b \\n\", o)\n",
        "print(\"-\"*50,\"\\n\")\n",
        "\n",
        "pred = o.sum()\n",
        "\n",
        "loss = pred - y\n",
        "\n",
        "print(\"Loss: \", loss)\n",
        "print(\"-\"*50,\"\\n\")\n",
        "loss.backward()\n",
        "\n",
        "print(\"Gradient for x:\\n d(loss)/dw = w.grad = \", w.grad) # .grad works only for scalar attributes; 4×1 input x.⊤⇒broadcasted to 4×4\n",
        "print(\"-\"*50,\"\\n\")\n",
        "\n",
        "print(\"Gradient for b:\\n d(loss)/db = b.grad = \", b.grad)\n",
        "#  Since the loss is the sum of all elements in z, each entry in bias.grad is just 1\n",
        "print(\"-\"*50,\"\\n\")\n"
      ]
    },
    {
      "cell_type": "code",
      "execution_count": null,
      "metadata": {
        "colab": {
          "base_uri": "https://localhost:8080/"
        },
        "id": "PtMidqHJTU3g",
        "outputId": "4d8efec6-c131-4432-a873-9fbdfbae8d87"
      },
      "outputs": [
        {
          "name": "stdout",
          "output_type": "stream",
          "text": [
            "True\n",
            "False\n"
          ]
        }
      ],
      "source": [
        "# 2.3. Disabling Gradient Tracking\n",
        "print(o.requires_grad)\n",
        "with torch.no_grad():\n",
        "    o_no_grad = w @ x + b\n",
        "    print(o_no_grad.requires_grad)"
      ]
    },
    {
      "cell_type": "markdown",
      "metadata": {
        "id": "lRwX9AChargO"
      },
      "source": [
        "#### *Questions*\n",
        "\n",
        "1. Basic Tensor Creation\n",
        "Write code to create a 3x3 tensor filled with the value 7. Print the tensor and its shape.\n",
        "2. Tensor from NumPy\n",
        "Given a NumPy array np_arr = np.arange(9).reshape(3, 3), convert it to a PyTorch tensor and print both the NumPy array and the resulting tensor.\n",
        "3. Tensor Properties\n",
        "Create a random tensor of shape (4, 2). Print its shape, data type, and device.\n",
        "4. Reshaping Tensors\n",
        "Given a tensor of shape (2, 6), reshape it to (3, 4) and then flatten it to a 1D tensor. Print all intermediate results.\n",
        "5. Element-wise Operations\n",
        "Create two tensors of shape (2, 2) with random values. Perform and print the results of element-wise addition, subtraction, and multiplication.\n",
        "6. Matrix Multiplication\n",
        "Create two tensors: one of shape (2, 3) and another of shape (3, 4). Perform matrix multiplication and print the result.\n",
        "7. GPU Acceleration\n",
        "Write code to check if a GPU is available. If so, move a tensor of your choice to the GPU and print its device. If not, print a message saying \"GPU not available\".\n",
        "8. Mini-Exercise: Transpose and Device\n",
        "Create a 5x3 tensor with random values, move it to the appropriate device (CPU or GPU), and print its transpose.\n"
      ]
    }
  ],
  "metadata": {
    "colab": {
      "provenance": []
    },
    "kernelspec": {
      "display_name": "Python 3",
      "name": "python3"
    },
    "language_info": {
      "name": "python"
    }
  },
  "nbformat": 4,
  "nbformat_minor": 0
}
